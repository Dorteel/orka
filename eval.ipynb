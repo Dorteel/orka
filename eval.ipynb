{
 "cells": [
  {
   "cell_type": "markdown",
   "metadata": {},
   "source": [
    "# Evaluation of the Competency Questions\n",
    "\n",
    "This notebook guides through the queries used to evaluate how the Robot Perception Ontology is able to answer the competency questions that guided the development process.\n",
    "\n",
    "A complete list of the competency questions are as follows:\n",
    "- **CQ1**: Given a robotic agent, what sensors and perception algorithms is it equipped with?\n",
    "- **CQ2**: Which characteristics of the environment do certain sensors and their associated algorithms from CQ1 observe?\n",
    "- **CQ3**: What units of measurements is the data from the sensors in CQ1 provided by? \n",
    "- **CQ4**: What are the observable and the observed characteristics a given entity possesses?\n",
    "- **CQ5**: What characteristics do the sensors from CQ1 possess?\n",
    "- **CQ6**: What characteristics do the algorithms from CQ1 possess?\n",
    "- **CQ7**: Which algorithm is the most suitable for given a context?\n",
    "- **CQ8**: Which external sources describe an entity?\n",
    "- **CQ9**: What characteristics are of a given object are described in a given external knowledge source?\n"
   ]
  },
  {
   "cell_type": "code",
   "execution_count": 8,
   "metadata": {},
   "outputs": [
    {
     "data": {
      "text/plain": [
       "<Graph identifier=Nb2ea3e2508cf42998d1d2e6531fc1df4 (<class 'rdflib.graph.Graph'>)>"
      ]
     },
     "execution_count": 8,
     "metadata": {},
     "output_type": "execute_result"
    }
   ],
   "source": [
    "import rdflib\n",
    "\n",
    "# Path to your ontology file\n",
    "ontology_path = 'orka/owl/orka-full-inferred.rdf'\n",
    "\n",
    "# Create a Graph\n",
    "g = rdflib.Graph()\n",
    "\n",
    "# Parse the ontology file\n",
    "g.parse(ontology_path, format=rdflib.util.guess_format(ontology_path))\n"
   ]
  },
  {
   "cell_type": "markdown",
   "metadata": {},
   "source": [
    "**CQ1**: Given a robotic agent, what sensors and perception algorithms is it equipped with?"
   ]
  },
  {
   "cell_type": "code",
   "execution_count": 9,
   "metadata": {},
   "outputs": [
    {
     "name": "stdout",
     "output_type": "stream",
     "text": [
      "CQ1-a: Given a robotic agent, what sensors is it equipped with?\n",
      "\torka-full:lb01_bumper_01\n",
      "\torka-full:lb01_bumper_02\n",
      "\torka-full:lb01_bumper_03\n",
      "\torka-full:lb01_cliff_sensor_01\n",
      "\torka-full:lb01_cliff_sensor_02\n",
      "\torka-full:lb01_cliff_sensor_03\n",
      "\torka-full:lb01_gyroscope01\n",
      "\torka-full:lb01_intel_d435rgbd_camera\n",
      "\torka-full:tb_01_gyro\n",
      "CQ1-b: Given a robotic agent, what perception algorithms is it equipped with?\n",
      "\torka-full:lb01_l2csnet_gaze_detector\n",
      "\torka-full:lb01_slam_localization\n",
      "\torka-full:lb01_yoloV5_object_detector\n"
     ]
    }
   ],
   "source": [
    "query_cq1a = \"\"\"\n",
    "SELECT ?sensor ?robot\n",
    "WHERE {\n",
    "  ?robot orka-core:hosts ?sensor\n",
    "}\n",
    "\"\"\"\n",
    "print(\"CQ1-a: Given a robotic agent, what sensors is it equipped with?\")\n",
    "for row in g.query(query_cq1a):\n",
    "    print(f\"\\t{row.sensor.n3(g.namespace_manager)}\")\n",
    "\n",
    "query_cq1b = \"\"\"\n",
    "SELECT ?perceptionalgorithm ?robot\n",
    "WHERE {\n",
    "  ?perceptionalgorithm orka-core:implementedOn ?robot\n",
    "}\n",
    "\"\"\"\n",
    "print(\"CQ1-b: Given a robotic agent, what perception algorithms is it equipped with?\")\n",
    "for row in g.query(query_cq1b):\n",
    "    print(f\"\\t{row.perceptionalgorithm.n3(g.namespace_manager)}\")"
   ]
  },
  {
   "cell_type": "markdown",
   "metadata": {},
   "source": [
    "**CQ2**: Which characteristics of the environment do certain sensors and their associated algorithms from CQ1 observe?"
   ]
  },
  {
   "cell_type": "code",
   "execution_count": 24,
   "metadata": {},
   "outputs": [
    {
     "name": "stdout",
     "output_type": "stream",
     "text": [
      "CQ2-a: Which characteristics of the environment do certain sensors and their associated algorithms observe??\n",
      "\t:lb01_bumper_01\n",
      "\t:lb01_cliff_sensor_01\n",
      "\t:lb01_gyroscope01\n",
      "\t:lb01_intel_d435rgbd_camera\n",
      "CQ2-b: Which characteristics of the environment do certain sensors and their associated algorithms observe??\n",
      "\t:lb01_yoloV5_object_detector\n"
     ]
    }
   ],
   "source": [
    "query_cq2a = \"\"\"\n",
    "SELECT ?characteristic\n",
    "WHERE {\n",
    "  ?robot rdfs:label \"Locreate\" .git\n",
    "  ?robot orka-core:hosts ?sensor\n",
    "}\n",
    "\"\"\"\n",
    "print(\"CQ2-a: Which characteristics of the environment do certain sensors and their associated algorithms from CQ1 observe??\")\n",
    "for row in g.query(query_cq2a):\n",
    "    print(f\"\\t{row.characteristic.n3(g.namespace_manager)}\")\n",
    "\n",
    "query_cq2b = \"\"\"\n",
    "SELECT ?characteristic\n",
    "WHERE {\n",
    "  ?robot rdfs:label \"Locreate\" .\n",
    "  ?perceptionalgorithm orka-core:implementedOn ?robot\n",
    "}\n",
    "\"\"\"\n",
    "print(\"CQ2-b: Which characteristics of the environment do certain sensors and their associated algorithms from CQ1 observe??\")\n",
    "for row in g.query(query_cq2b):\n",
    "    print(f\"\\t{row.characteristic.n3(g.namespace_manager)}\")"
   ]
  },
  {
   "cell_type": "markdown",
   "metadata": {},
   "source": [
    "**CQ3**: What units of measurements is the data from the sensors in CQ1 provided by? "
   ]
  },
  {
   "cell_type": "code",
   "execution_count": null,
   "metadata": {},
   "outputs": [],
   "source": []
  },
  {
   "cell_type": "markdown",
   "metadata": {},
   "source": [
    "**CQ4**: What are the observable and the observed characteristics a given entity possesses?"
   ]
  },
  {
   "cell_type": "code",
   "execution_count": null,
   "metadata": {},
   "outputs": [],
   "source": []
  },
  {
   "cell_type": "markdown",
   "metadata": {},
   "source": [
    "**CQ5**: What characteristics do the sensors from CQ1 possess?\n"
   ]
  },
  {
   "cell_type": "code",
   "execution_count": null,
   "metadata": {},
   "outputs": [],
   "source": []
  },
  {
   "cell_type": "markdown",
   "metadata": {},
   "source": [
    "**CQ6**: What characteristics do the algorithms from CQ1 possess?\n"
   ]
  },
  {
   "cell_type": "code",
   "execution_count": null,
   "metadata": {},
   "outputs": [],
   "source": []
  },
  {
   "cell_type": "markdown",
   "metadata": {},
   "source": [
    "**CQ7**:Which algorithm is the most suitable for given a context?\n"
   ]
  },
  {
   "cell_type": "code",
   "execution_count": null,
   "metadata": {},
   "outputs": [],
   "source": []
  },
  {
   "cell_type": "markdown",
   "metadata": {},
   "source": [
    "**CQ8**: Which external sources describe an entity?"
   ]
  },
  {
   "cell_type": "code",
   "execution_count": null,
   "metadata": {},
   "outputs": [],
   "source": []
  },
  {
   "cell_type": "markdown",
   "metadata": {},
   "source": [
    "**CQ9**: What characteristics are of a given object are described in a given external knowledge source?"
   ]
  },
  {
   "cell_type": "code",
   "execution_count": null,
   "metadata": {},
   "outputs": [],
   "source": []
  }
 ],
 "metadata": {
  "kernelspec": {
   "display_name": "Python 3",
   "language": "python",
   "name": "python3"
  },
  "language_info": {
   "codemirror_mode": {
    "name": "ipython",
    "version": 3
   },
   "file_extension": ".py",
   "mimetype": "text/x-python",
   "name": "python",
   "nbconvert_exporter": "python",
   "pygments_lexer": "ipython3",
   "version": "3.10.11"
  }
 },
 "nbformat": 4,
 "nbformat_minor": 2
}
