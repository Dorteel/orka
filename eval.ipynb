{
 "cells": [
  {
   "cell_type": "markdown",
   "metadata": {},
   "source": [
    "# Evaluation of the Competency Questions\n",
    "\n",
    "This notebook guides through the queries used to evaluate how the Robot Perception Ontology is able to answer the competency questions that guided the development process.\n",
    "\n",
    "A complete list of the competency questions are as follows:\n",
    "- **CQ1**: What sensors are available to use for robotic perception?\n",
    "- **CQ2**: What characteristics do the sensors of CQ1 possess?\n",
    "- **CQ3**: What units of measurements is the data provided by CQ1 expressed in?\n",
    "- **CQ4**: What properties of objects does the sensor from CQ1 enable to observe?\n",
    "- **CQ5**: What algorithms are suitable for processing the data for the sensors of CQ1?\n",
    "- **CQ6**: What characteristics do the algorithms possess?\n",
    "- **CQ7**: What units of measurements is the data by provided by CQ5 expressed in?\n",
    "- **CQ8**: What properties of objects can be observed from the outputs of the algorithms provided by CQ5?\n"
   ]
  },
  {
   "cell_type": "code",
   "execution_count": 12,
   "metadata": {},
   "outputs": [
    {
     "name": "stdout",
     "output_type": "stream",
     "text": [
      ":lb01_bumper_01\n",
      ":lb01_cliff_sensor_01\n",
      ":lb01_gyroscope01\n",
      ":lb01_intel_d435rgbd_camera\n"
     ]
    }
   ],
   "source": [
    "import rdflib\n",
    "\n",
    "# Path to your ontology file\n",
    "ontology_path = 'orka/owl/orka-full.rdf'\n",
    "\n",
    "# Create a Graph\n",
    "g = rdflib.Graph()\n",
    "\n",
    "# Parse the ontology file\n",
    "g.parse(ontology_path, format=rdflib.util.guess_format(ontology_path))\n",
    "\n",
    "\n",
    "query = \"\"\"\n",
    "PREFIX : <http://www.semanticweb.org/dorte/orka-full#>\n",
    "PREFIX orka-core: <http://www.semanticweb.org/dorte/orka-core#>\n",
    "\n",
    "SELECT ?sensor\n",
    "WHERE {\n",
    "  ?robot orka-core:hosts ?sensor\n",
    "}\n",
    "LIMIT 10\n",
    "\"\"\"\n",
    "\n",
    "cq8_res = g.query(query)\n",
    "for row in cq8_res:\n",
    "    print(f\"{row.sensor.n3(g.namespace_manager)}\")\n"
   ]
  },
  {
   "cell_type": "code",
   "execution_count": 14,
   "metadata": {},
   "outputs": [],
   "source": [
    "query = \"\"\"\n",
    "PREFIX : <http://www.semanticweb.org/dorte/orka-full#>\n",
    "PREFIX orka-core: <http://www.semanticweb.org/dorte/orka-core#>\n",
    "\n",
    "SELECT DISTINCT ?thing WHERE {\n",
    "  ?algorithm a orka-core:Procedure .\n",
    "  ?algorithm :canDetect ?thing .\n",
    "}\n",
    "\n",
    "\"\"\"\n",
    "\n",
    "cq8_res = g.query(query)\n",
    "for row in cq8_res:\n",
    "    print(f\"{row.thing.n3(g.namespace_manager)}\")"
   ]
  },
  {
   "cell_type": "code",
   "execution_count": null,
   "metadata": {},
   "outputs": [],
   "source": []
  }
 ],
 "metadata": {
  "kernelspec": {
   "display_name": "Python 3",
   "language": "python",
   "name": "python3"
  },
  "language_info": {
   "codemirror_mode": {
    "name": "ipython",
    "version": 3
   },
   "file_extension": ".py",
   "mimetype": "text/x-python",
   "name": "python",
   "nbconvert_exporter": "python",
   "pygments_lexer": "ipython3",
   "version": "3.10.11"
  }
 },
 "nbformat": 4,
 "nbformat_minor": 2
}
