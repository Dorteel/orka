{
 "cells": [
  {
   "cell_type": "markdown",
   "id": "9b2daa12",
   "metadata": {},
   "source": [
    "# Evaluation of the Competency Questions\n",
    "\n",
    "This notebook guides through the queries used to evaluate how the Robot Perception Ontology is able to answer the competency questions that guided the development process.\n",
    "\n",
    "A complete list of the competency questions are as follows:\n",
    "- CQ1: What sensors are available to use for robotic perception?\n",
    "- CQ2: What characteristics do the sensors of CQ1 possess?\n",
    "- CQ3: What units of measurements is the data provided by CQ1 expressed in?\n",
    "- CQ4: What properties of objects does the sensor from CQ1 enable to observe?\n",
    "- CQ5: What algorithms are suitable for processing the data for the sensors of CQ1?\n",
    "- CQ6: What characteristics do the algorithms possess?\n",
    "- CQ7: What units of measurements is the data by provided by CQ5 expressed in?\n",
    "- CQ8: What properties of objects can be observed from the outputs of the algorithms provided by CQ5?\n",
    "\n",
    "The current competency questions serve as a proof-of-concept evaluation. As the project is constantly evolving, a more comprehensive evaluation of the competency questions will be conducted in a near future."
   ]
  },
  {
   "cell_type": "code",
   "execution_count": 1,
   "id": "ad0d6906",
   "metadata": {},
   "outputs": [
    {
     "name": "stdout",
     "output_type": "stream",
     "text": [
      "http://www.semanticweb.org/dorte/perception-ontology#LocoBotYoloV4, http://www.semanticweb.org/dorte/perception-ontology#orange\n",
      "http://www.semanticweb.org/dorte/perception-ontology#LocoBotYoloV4, http://www.semanticweb.org/dorte/perception-ontology#orangeLocation\n"
     ]
    }
   ],
   "source": [
    "from rdflib import Graph, Namespace\n",
    "from rdflib.namespace import SSN\n",
    "\n",
    "g = Graph()\n",
    "g.parse(\"owl/rpo.rdf\")\n",
    "\n",
    "cq8_query = \"\"\"\n",
    "SELECT ?sensor ?agent ?alg ?prop WHERE{\n",
    "    ?sensor rdf:type/rdfs:subClassOf* :Sensor .\n",
    "    ?sensor :isPoweredOn true .\n",
    "    ?sensor :isHostedBy ?agent .\n",
    "    ?agent a :Self .\n",
    "    ?alg rdf:type/rdfs:subClassOf* :Algorithm.\n",
    "    ?sensor :hasOutput ?output .\n",
    "    ?alg :capableOfObservationOf ?prop.\n",
    "}\"\"\"\n",
    "\n",
    "cq8_res = g.query(cq8_query)\n",
    "for row in cq8_res:\n",
    "    print(f\"{row.alg}, {row.prop}\")\n"
   ]
  },
  {
   "cell_type": "markdown",
   "id": "e769c931",
   "metadata": {},
   "source": [
    "### CQ1: What sensors are available to use for robotic perception?\n",
    "\n",
    "Availability in this sense means that the sensor needs be equipped by a robot, and the sensor needs to be powered. In order to test the query, the queried object needs to be of type *rpo:Sensor*, with *rpo:isPoweredOn* property being *true*, and *rpo:isHostedBy* be an *rpo:agent* that is of type *rpo:Self*."
   ]
  },
  {
   "cell_type": "code",
   "execution_count": 2,
   "id": "51cb786f",
   "metadata": {},
   "outputs": [
    {
     "name": "stdout",
     "output_type": "stream",
     "text": [
      "http://www.semanticweb.org/dorte/perception-ontology#LocoBot1DepthCamera\n"
     ]
    }
   ],
   "source": [
    "cq1_query = \"\"\"\n",
    "SELECT ?sensor ?agent WHERE{\n",
    "    ?sensor rdf:type/rdfs:subClassOf* :Sensor .\n",
    "    ?sensor :isPoweredOn true .\n",
    "    ?sensor :isHostedBy ?agent .\n",
    "    ?agent a :Self\n",
    "}\"\"\"\n",
    "\n",
    "cq1_res = g.query(cq1_query)\n",
    "for row in cq1_res:\n",
    "    print(f\"{row.sensor}\")"
   ]
  },
  {
   "cell_type": "markdown",
   "id": "d392a592",
   "metadata": {},
   "source": [
    "### CQ2: What characteristics do the sensors of CQ1 possess?\n",
    "\n",
    "Characteristics refers to the values that describe the different sensor properties relevant to the sensor at hand. The sensor properties belong to the class *rpo:SensorProperty* ."
   ]
  },
  {
   "cell_type": "code",
   "execution_count": 3,
   "id": "d7676a07",
   "metadata": {},
   "outputs": [
    {
     "name": "stdout",
     "output_type": "stream",
     "text": [
      "http://www.semanticweb.org/dorte/perception-ontology#IntelD435DFoV, 95.0 http://www.semanticweb.org/dorte/perception-ontology#degree\n",
      "http://www.semanticweb.org/dorte/perception-ontology#IntelD435HFoV, 87.0 http://www.semanticweb.org/dorte/perception-ontology#degree\n",
      "http://www.semanticweb.org/dorte/perception-ontology#IntelD435VFoV, 58.0 http://www.semanticweb.org/dorte/perception-ontology#degree\n"
     ]
    }
   ],
   "source": [
    "cq2_query = \"\"\"\n",
    "SELECT ?sensor ?agent ?sc ?value ?unit WHERE{\n",
    "    ?sensor rdf:type/rdfs:subClassOf* :Sensor .\n",
    "    ?sensor :isPoweredOn true .\n",
    "    ?sensor :isHostedBy ?agent .\n",
    "    ?agent a :Self .\n",
    "    ?sensor :hasSensorCharacteristics ?sc .\n",
    "    ?sc :hasUnitofMeasure ?unit .\n",
    "    ?sc :hasNumericalValue ?value\n",
    "}\"\"\"\n",
    "\n",
    "cq2_res = g.query(cq2_query)\n",
    "for row in cq2_res:\n",
    "    print(f\"{row.sc}, {row.value} {row.unit}\")"
   ]
  },
  {
   "cell_type": "markdown",
   "id": "fd6d1eee",
   "metadata": {},
   "source": [
    "### CQ3: What units of measurement is the data provided by CQ1 expressed in?\n"
   ]
  },
  {
   "cell_type": "code",
   "execution_count": 4,
   "id": "9fe0e314",
   "metadata": {},
   "outputs": [
    {
     "name": "stdout",
     "output_type": "stream",
     "text": [
      "http://www.semanticweb.org/dorte/perception-ontology#RGB\n",
      "http://www.semanticweb.org/dorte/perception-ontology#meter\n",
      "http://www.semanticweb.org/dorte/perception-ontology#pixel\n"
     ]
    }
   ],
   "source": [
    "cq3_query = \"\"\"\n",
    "SELECT ?unit ?sensor ?agent WHERE{\n",
    "    ?sensor rdf:type/rdfs:subClassOf* :Sensor .\n",
    "    ?sensor :isPoweredOn true .\n",
    "    ?sensor :isHostedBy ?agent .\n",
    "    ?agent a :Self .\n",
    "    ?sensor :hasOutputUnitOfMeasure ?unit.\n",
    "}\"\"\"\n",
    "\n",
    "cq3_res = g.query(cq3_query)\n",
    "for row in cq3_res:\n",
    "    print(f\"{row.unit}\")"
   ]
  },
  {
   "cell_type": "markdown",
   "id": "4cbf25dc",
   "metadata": {},
   "source": [
    "### CQ4: What properties of objects does the sensor from CQ1 enable to observe?"
   ]
  },
  {
   "cell_type": "code",
   "execution_count": 5,
   "id": "2fabb4fd",
   "metadata": {},
   "outputs": [
    {
     "name": "stdout",
     "output_type": "stream",
     "text": [
      "http://www.semanticweb.org/dorte/perception-ontology#Color\n",
      "http://www.semanticweb.org/dorte/perception-ontology#Distance\n"
     ]
    }
   ],
   "source": [
    "cq4_query = \"\"\"\n",
    "SELECT ?prop ?sensor ?agent WHERE{\n",
    "    ?sensor rdf:type/rdfs:subClassOf* :Sensor .\n",
    "    ?sensor :isPoweredOn true .\n",
    "    ?sensor :isHostedBy ?agent .\n",
    "    ?agent a :Self .\n",
    "    ?sensor :enablesObservationOf ?prop.\n",
    "}\"\"\"\n",
    "\n",
    "cq4_res = g.query(cq4_query)\n",
    "for row in cq4_res:\n",
    "    print(f\"{row.prop}\")"
   ]
  },
  {
   "cell_type": "markdown",
   "id": "b47c7f8f",
   "metadata": {},
   "source": [
    "### CQ5: What algorithms are suitable for processing the data for the sensors of CQ1?\n",
    "\n",
    "The algorithms that's input corresponds to the same qualities as the output of the sensor is considered suitable. In the test-case, the output of the depth sensor are RGB and Depth images, where the RGB image is a suitable input for the Yolo ObjectDetector."
   ]
  },
  {
   "cell_type": "code",
   "execution_count": 6,
   "id": "f00d06a8",
   "metadata": {},
   "outputs": [
    {
     "name": "stdout",
     "output_type": "stream",
     "text": [
      "http://www.semanticweb.org/dorte/perception-ontology#LocoBot1DepthCamera, http://www.semanticweb.org/dorte/perception-ontology#LocoBotYoloV4\n"
     ]
    }
   ],
   "source": [
    "cq5_query = \"\"\"\n",
    "SELECT ?sensor ?agent ?alg ?output WHERE{\n",
    "    ?sensor rdf:type/rdfs:subClassOf* :Sensor .\n",
    "    ?sensor :isPoweredOn true .\n",
    "    ?sensor :isHostedBy ?agent .\n",
    "    ?agent a :Self .\n",
    "    ?alg rdf:type/rdfs:subClassOf* :Algorithm .\n",
    "    ?sensor :hasOutput ?output .\n",
    "    ?alg :hasInput ?output\n",
    "}\"\"\"\n",
    "\n",
    "cq5_res = g.query(cq5_query)\n",
    "for row in cq5_res:\n",
    "    print(f\"{row.sensor}, {row.alg}\")"
   ]
  },
  {
   "cell_type": "markdown",
   "id": "35d3ca5f",
   "metadata": {},
   "source": [
    "### CQ6: What characteristics do the algorithms possess? \n",
    "\n",
    "Similarly to CQ2, the characteristics of the algorithms are expressed using the properties corresponding to the algorithms, which belong to the subclasses of *rpo:AlgorithmProperty*. "
   ]
  },
  {
   "cell_type": "code",
   "execution_count": 7,
   "id": "3f7b92f0",
   "metadata": {},
   "outputs": [
    {
     "name": "stdout",
     "output_type": "stream",
     "text": [
      "http://www.semanticweb.org/dorte/perception-ontology#LocoBotYoloV4, http://www.semanticweb.org/dorte/perception-ontology#canDetect, http://www.semanticweb.org/dorte/perception-ontology#orange\n",
      "http://www.semanticweb.org/dorte/perception-ontology#LocoBotYoloV4, http://www.semanticweb.org/dorte/perception-ontology#hasDetectionThreshold, http://www.semanticweb.org/dorte/perception-ontology#YoloV4DetectionThreshold\n"
     ]
    }
   ],
   "source": [
    "cq6_query = \"\"\"\n",
    "SELECT ?sensor ?agent ?alg ?char ?property WHERE{\n",
    "    ?sensor rdf:type/rdfs:subClassOf* :Sensor .\n",
    "    ?sensor :isPoweredOn true .\n",
    "    ?sensor :isHostedBy ?agent .\n",
    "    ?agent a :Self .\n",
    "    ?alg rdf:type/rdfs:subClassOf* :Algorithm .\n",
    "    ?alg ?property ?char .\n",
    "    ?property rdfs:subPropertyOf* :algorithmCharacteristicProperty\n",
    "}\"\"\"\n",
    "\n",
    "cq6_res = g.query(cq6_query)\n",
    "for row in cq6_res:\n",
    "    print(f\"{row.alg}, {row.property}, {row.char}\")"
   ]
  },
  {
   "cell_type": "markdown",
   "id": "b2c495c1",
   "metadata": {},
   "source": [
    "### CQ7: What units of measurements is the data by provided by CQ5 expressed in?"
   ]
  },
  {
   "cell_type": "code",
   "execution_count": 8,
   "id": "49bd367f",
   "metadata": {},
   "outputs": [
    {
     "name": "stdout",
     "output_type": "stream",
     "text": [
      "http://www.semanticweb.org/dorte/perception-ontology#LocoBotYoloV4, http://www.semanticweb.org/dorte/perception-ontology#pixel\n"
     ]
    }
   ],
   "source": [
    "cq7_query = \"\"\"\n",
    "SELECT ?sensor ?agent ?alg ?unit WHERE{\n",
    "    ?sensor rdf:type/rdfs:subClassOf* :Sensor .\n",
    "    ?sensor :isPoweredOn true .\n",
    "    ?sensor :isHostedBy ?agent .\n",
    "    ?agent a :Self .\n",
    "    ?alg rdf:type/rdfs:subClassOf* :Algorithm.\n",
    "    ?alg :hasOutputUnitOfMeasure ?unit.\n",
    "}\"\"\"\n",
    "\n",
    "cq7_res = g.query(cq7_query)\n",
    "for row in cq7_res:\n",
    "    print(f\"{row.alg}, {row.unit}\")"
   ]
  },
  {
   "cell_type": "markdown",
   "id": "f1436d87",
   "metadata": {},
   "source": [
    "### CQ8: What properties of objects can be observed from the outputs of the algorithms provided by CQ5?"
   ]
  },
  {
   "cell_type": "code",
   "execution_count": 9,
   "id": "180f5b0f",
   "metadata": {},
   "outputs": [
    {
     "name": "stdout",
     "output_type": "stream",
     "text": [
      "http://www.semanticweb.org/dorte/perception-ontology#LocoBotYoloV4, http://www.semanticweb.org/dorte/perception-ontology#orange\n",
      "http://www.semanticweb.org/dorte/perception-ontology#LocoBotYoloV4, http://www.semanticweb.org/dorte/perception-ontology#orangeLocation\n"
     ]
    }
   ],
   "source": [
    "cq8_query = \"\"\"\n",
    "SELECT ?sensor ?agent ?alg ?prop WHERE{\n",
    "    ?sensor rdf:type/rdfs:subClassOf* :Sensor .\n",
    "    ?sensor :isPoweredOn true .\n",
    "    ?sensor :isHostedBy ?agent .\n",
    "    ?agent a :Self .\n",
    "    ?alg rdf:type/rdfs:subClassOf* :Algorithm.\n",
    "    ?sensor :hasOutput ?output .\n",
    "    ?alg :capableOfObservationOf ?prop.\n",
    "}\"\"\"\n",
    "\n",
    "cq8_res = g.query(cq8_query)\n",
    "for row in cq8_res:\n",
    "    print(f\"{row.alg}, {row.prop}\")"
   ]
  },
  {
   "cell_type": "code",
   "execution_count": null,
   "id": "e3122b9b",
   "metadata": {},
   "outputs": [],
   "source": []
  }
 ],
 "metadata": {
  "kernelspec": {
   "display_name": "Python 3 (ipykernel)",
   "language": "python",
   "name": "python3"
  },
  "language_info": {
   "codemirror_mode": {
    "name": "ipython",
    "version": 3
   },
   "file_extension": ".py",
   "mimetype": "text/x-python",
   "name": "python",
   "nbconvert_exporter": "python",
   "pygments_lexer": "ipython3",
   "version": "3.8.10"
  }
 },
 "nbformat": 4,
 "nbformat_minor": 5
}
