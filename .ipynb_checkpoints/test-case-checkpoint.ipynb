{
 "cells": [
  {
   "cell_type": "markdown",
   "id": "fee0d10f",
   "metadata": {},
   "source": [
    "# Test-case\n",
    "\n",
    "The test-case consists of a modelling of a LocoBot WX250 robot, and the sensors equipped within the robot."
   ]
  },
  {
   "cell_type": "code",
   "execution_count": null,
   "id": "4156fbcd",
   "metadata": {},
   "outputs": [],
   "source": []
  }
 ],
 "metadata": {
  "kernelspec": {
   "display_name": "Python 3 (ipykernel)",
   "language": "python",
   "name": "python3"
  },
  "language_info": {
   "codemirror_mode": {
    "name": "ipython",
    "version": 3
   },
   "file_extension": ".py",
   "mimetype": "text/x-python",
   "name": "python",
   "nbconvert_exporter": "python",
   "pygments_lexer": "ipython3",
   "version": "3.8.10"
  }
 },
 "nbformat": 4,
 "nbformat_minor": 5
}
