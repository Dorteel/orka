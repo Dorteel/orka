{
 "cells": [
  {
   "cell_type": "markdown",
   "id": "7b27bf67",
   "metadata": {},
   "source": [
    "# Evaluation of the Competency Questions\n",
    "\n",
    "This notebook guides through the queries used to evaluate how the Robot Perception Ontology is able to answer the competency questions that guided the development process.\n",
    "\n",
    "A complete list of the competency questions are as follows:\n",
    "- CQ1: What sensors are available to use for robotic perception?\n",
    "- CQ2: What characteristics do the sensors of CQ1 possess?\n",
    "- CQ3: What units of measurements is the data provided by CQ1 expressed in?\n",
    "- CQ4: What properties of objects does the sensor from CQ1 enable to observe?\n",
    "- CQ5: What algorithms are suitable for processing the data for the sensors of CQ1?\n",
    "- CQ6: What characteristics do the algorithms possess?\n",
    "- CQ7: What units of measurements is the data by provided by CQ5 expressed in?\n",
    "- CQ8: What properties of objects can be observed from the outputs of the algorithms provided by CQ5?"
   ]
  },
  {
   "cell_type": "code",
   "execution_count": 1,
   "id": "0ca0298f",
   "metadata": {},
   "outputs": [
    {
     "name": "stdout",
     "output_type": "stream",
     "text": [
      "http://www.semanticweb.org/dorte/perception-ontology#LocoBot1DepthCamera, http://www.semanticweb.org/dorte/perception-ontology#LocoBotYoloV4\n"
     ]
    }
   ],
   "source": [
    "from rdflib import Graph, Namespace\n",
    "from rdflib.namespace import SSN\n",
    "\n",
    "g = Graph()\n",
    "g.parse(\"owl/rpo.rdf\")\n",
    "\n",
    "\n",
    "cq5_query = \"\"\"\n",
    "SELECT ?sensor ?agent ?alg ?output WHERE{\n",
    "    ?sensor rdf:type/rdfs:subClassOf* :Sensor .\n",
    "    ?sensor :isPoweredOn true .\n",
    "    ?sensor :isHostedBy ?agent .\n",
    "    ?agent a :Self .\n",
    "    ?alg rdf:type/rdfs:subClassOf* :Algorithm .\n",
    "    ?sensor :hasOutput ?output .\n",
    "    ?alg :hasInput ?output\n",
    "}\"\"\"\n",
    "\n",
    "cq5_res = g.query(cq5_query)\n",
    "for row in cq5_res:\n",
    "    print(f\"{row.sensor}, {row.alg}\")\n"
   ]
  },
  {
   "cell_type": "markdown",
   "id": "af5daf0f",
   "metadata": {},
   "source": [
    "## CQ1: What sensors are available to use for robotic perception?\n",
    "\n",
    "Availability in this sense means that the sensor needs be equipped by a robot, and the sensor needs to be powered. In order to test the query, the queried object needs to be of type *rpo:Sensor*, with *rpo:isPoweredOn* property being *true*, and *rpo:isHostedBy* be an *rpo:agent* that is of type *rpo:Self*."
   ]
  },
  {
   "cell_type": "code",
   "execution_count": 2,
   "id": "59f1b584",
   "metadata": {},
   "outputs": [
    {
     "name": "stdout",
     "output_type": "stream",
     "text": [
      "http://www.semanticweb.org/dorte/perception-ontology#LocoBot1DepthCamera\n"
     ]
    }
   ],
   "source": [
    "cq1_query = \"\"\"\n",
    "SELECT ?sensor ?agent WHERE{\n",
    "    ?sensor rdf:type/rdfs:subClassOf* :Sensor .\n",
    "    ?sensor :isPoweredOn true .\n",
    "    ?sensor :isHostedBy ?agent .\n",
    "    ?agent a :Self\n",
    "}\"\"\"\n",
    "\n",
    "cq1_res = g.query(cq1_query)\n",
    "for row in cq1_res:\n",
    "    print(f\"{row.sensor}\")"
   ]
  },
  {
   "cell_type": "markdown",
   "id": "410be667",
   "metadata": {},
   "source": [
    "## CQ2: What characteristics do the sensors of CQ1 possess?\n",
    "\n",
    "Characteristics refers to the values that describe the different sensor properties relevant to the sensor at hand. The sensor properties belong to the class *rpo:SensorProperty* ."
   ]
  },
  {
   "cell_type": "code",
   "execution_count": 3,
   "id": "6980f783",
   "metadata": {},
   "outputs": [
    {
     "name": "stdout",
     "output_type": "stream",
     "text": [
      "http://www.semanticweb.org/dorte/perception-ontology#IntelD435DFoV, 95.0 http://www.semanticweb.org/dorte/perception-ontology#degree\n",
      "http://www.semanticweb.org/dorte/perception-ontology#IntelD435HFoV, 87.0 http://www.semanticweb.org/dorte/perception-ontology#degree\n",
      "http://www.semanticweb.org/dorte/perception-ontology#IntelD435VFoV, 58.0 http://www.semanticweb.org/dorte/perception-ontology#degree\n"
     ]
    }
   ],
   "source": [
    "cq2_query = \"\"\"\n",
    "SELECT ?sc ?value ?unit WHERE{\n",
    "    :LocoBot1DepthCamera :hasSensorCharacteristics ?sc .\n",
    "    ?sc :hasUnitofMeasure ?unit .\n",
    "    ?sc :hasNumericalValue ?value\n",
    "}\"\"\"\n",
    "\n",
    "cq2_res = g.query(cq2_query)\n",
    "for row in cq2_res:\n",
    "    print(f\"{row.sc}, {row.value} {row.unit}\")"
   ]
  },
  {
   "cell_type": "markdown",
   "id": "56e7e1be",
   "metadata": {},
   "source": [
    "## CQ3: What units of measurement is the data provided by CQ1 expressed in?\n"
   ]
  },
  {
   "cell_type": "code",
   "execution_count": 4,
   "id": "26e38bbf",
   "metadata": {},
   "outputs": [
    {
     "name": "stdout",
     "output_type": "stream",
     "text": [
      "http://www.semanticweb.org/dorte/perception-ontology#RGB\n",
      "http://www.semanticweb.org/dorte/perception-ontology#meter\n",
      "http://www.semanticweb.org/dorte/perception-ontology#pixel\n"
     ]
    }
   ],
   "source": [
    "cq3_query = \"\"\"\n",
    "SELECT ?unit WHERE{\n",
    "    :LocoBot1DepthCamera :hasOutputUnitOfMeasure ?unit.\n",
    "}\"\"\"\n",
    "\n",
    "cq3_res = g.query(cq3_query)\n",
    "for row in cq3_res:\n",
    "    print(f\"{row.unit}\")"
   ]
  },
  {
   "cell_type": "markdown",
   "id": "0b8d7e3b",
   "metadata": {},
   "source": [
    "## CQ4: What properties of objects does the sensor from CQ1 enable to observe?"
   ]
  },
  {
   "cell_type": "code",
   "execution_count": 5,
   "id": "ca44fc9b",
   "metadata": {},
   "outputs": [
    {
     "name": "stdout",
     "output_type": "stream",
     "text": [
      "http://www.semanticweb.org/dorte/perception-ontology#Color\n",
      "http://www.semanticweb.org/dorte/perception-ontology#Distance\n"
     ]
    }
   ],
   "source": [
    "cq4_query = \"\"\"\n",
    "SELECT ?prop WHERE{\n",
    "    :LocoBot1DepthCamera :enablesObservationOf ?prop.\n",
    "}\"\"\"\n",
    "\n",
    "cq4_res = g.query(cq4_query)\n",
    "for row in cq4_res:\n",
    "    print(f\"{row.prop}\")"
   ]
  },
  {
   "cell_type": "markdown",
   "id": "d0e7dc9e",
   "metadata": {},
   "source": [
    "## CQ5: What algorithms are suitable for processing the data for the sensors of CQ1?\n",
    "\n",
    "The algorithms that's input corresponds to the same qualities as the output of the sensor is considered suitable. In the test-case, the output of the depth sensor are RGB and Depth images, where the RGB image is a suitable input for the Yolo ObjectDetector."
   ]
  },
  {
   "cell_type": "code",
   "execution_count": 6,
   "id": "a6a061af",
   "metadata": {},
   "outputs": [
    {
     "name": "stdout",
     "output_type": "stream",
     "text": [
      "http://www.semanticweb.org/dorte/perception-ontology#LocoBot1DepthCamera, http://www.semanticweb.org/dorte/perception-ontology#LocoBotYoloV4\n"
     ]
    }
   ],
   "source": [
    "cq5_query = \"\"\"\n",
    "SELECT ?sensor ?agent ?alg ?output WHERE{\n",
    "    ?sensor rdf:type/rdfs:subClassOf* :Sensor .\n",
    "    ?sensor :isPoweredOn true .\n",
    "    ?sensor :isHostedBy ?agent .\n",
    "    ?agent a :Self .\n",
    "    ?alg rdf:type/rdfs:subClassOf* :Algorithm .\n",
    "    ?sensor :hasOutput ?output .\n",
    "    ?alg :hasInput ?output\n",
    "}\"\"\"\n",
    "\n",
    "cq5_res = g.query(cq5_query)\n",
    "for row in cq5_res:\n",
    "    print(f\"{row.sensor}, {row.alg}\")"
   ]
  },
  {
   "cell_type": "markdown",
   "id": "e39de41c",
   "metadata": {},
   "source": [
    "## CQ6: What characteristics do the algorithms possess? \n",
    "\n",
    "Similarly to CQ2, the characteristics of the algorithms are expressed using the properties corresponding to the algorithms, which belong to the subclasses of *rpo:AlgorithmProperty*."
   ]
  },
  {
   "cell_type": "code",
   "execution_count": 7,
   "id": "85856367",
   "metadata": {},
   "outputs": [
    {
     "name": "stdout",
     "output_type": "stream",
     "text": [
      "http://www.semanticweb.org/dorte/perception-ontology#LocoBotYoloV4, None\n"
     ]
    }
   ],
   "source": [
    "cq6_query = \"\"\"\n",
    "SELECT ?sensor ?agent ?alg ?prop WHERE{\n",
    "    ?sensor rdf:type/rdfs:subClassOf* :Sensor .\n",
    "    ?sensor :isPoweredOn true .\n",
    "    ?sensor :isHostedBy ?agent .\n",
    "    ?agent a :Self .\n",
    "    ?alg rdf:type/rdfs:subClassOf* :Algorithm.\n",
    "    ?sensor :hasOutput ?output .\n",
    "    ?alg :hasInput ?output\n",
    "}\"\"\"\n",
    "\n",
    "cq6_res = g.query(cq6_query)\n",
    "for row in cq6_res:\n",
    "    print(f\"{row.alg}, {row.prop}\")"
   ]
  },
  {
   "cell_type": "markdown",
   "id": "c5adfe22",
   "metadata": {},
   "source": [
    "## CQ7: What units of measurements is the data by provided by CQ5 expressed in?"
   ]
  },
  {
   "cell_type": "code",
   "execution_count": 8,
   "id": "29a6a673",
   "metadata": {},
   "outputs": [
    {
     "name": "stdout",
     "output_type": "stream",
     "text": [
      "http://www.semanticweb.org/dorte/perception-ontology#LocoBotYoloV4, None\n"
     ]
    }
   ],
   "source": [
    "cq7_query = \"\"\"\n",
    "SELECT ?sensor ?agent ?alg ?prop WHERE{\n",
    "    ?sensor rdf:type/rdfs:subClassOf* :Sensor .\n",
    "    ?sensor :isPoweredOn true .\n",
    "    ?sensor :isHostedBy ?agent .\n",
    "    ?agent a :Self .\n",
    "    ?alg rdf:type/rdfs:subClassOf* :Algorithm.\n",
    "    ?sensor :hasOutput ?output .\n",
    "    ?alg :hasInput ?output\n",
    "}\"\"\"\n",
    "\n",
    "cq7_res = g.query(cq7_query)\n",
    "for row in cq7_res:\n",
    "    print(f\"{row.alg}, {row.prop}\")"
   ]
  },
  {
   "cell_type": "markdown",
   "id": "051b0bed",
   "metadata": {},
   "source": [
    "## CQ8: What properties of objects can be observed from the outputs of the algorithms provided by CQ5?"
   ]
  },
  {
   "cell_type": "code",
   "execution_count": 9,
   "id": "1e898ab2",
   "metadata": {},
   "outputs": [
    {
     "name": "stdout",
     "output_type": "stream",
     "text": [
      "http://www.semanticweb.org/dorte/perception-ontology#LocoBotYoloV4, None\n"
     ]
    }
   ],
   "source": [
    "cq8_query = \"\"\"\n",
    "SELECT ?sensor ?agent ?alg ?prop WHERE{\n",
    "    ?sensor rdf:type/rdfs:subClassOf* :Sensor .\n",
    "    ?sensor :isPoweredOn true .\n",
    "    ?sensor :isHostedBy ?agent .\n",
    "    ?agent a :Self .\n",
    "    ?alg rdf:type/rdfs:subClassOf* :Algorithm.\n",
    "    ?sensor :hasOutput ?output .\n",
    "    ?alg :hasInput ?output\n",
    "}\"\"\"\n",
    "\n",
    "cq8_res = g.query(cq8_query)\n",
    "for row in cq8_res:\n",
    "    print(f\"{row.alg}, {row.prop}\")"
   ]
  },
  {
   "cell_type": "code",
   "execution_count": null,
   "id": "8033eb43",
   "metadata": {},
   "outputs": [],
   "source": []
  }
 ],
 "metadata": {
  "kernelspec": {
   "display_name": "Python 3 (ipykernel)",
   "language": "python",
   "name": "python3"
  },
  "language_info": {
   "codemirror_mode": {
    "name": "ipython",
    "version": 3
   },
   "file_extension": ".py",
   "mimetype": "text/x-python",
   "name": "python",
   "nbconvert_exporter": "python",
   "pygments_lexer": "ipython3",
   "version": "3.8.10"
  }
 },
 "nbformat": 4,
 "nbformat_minor": 5
}
