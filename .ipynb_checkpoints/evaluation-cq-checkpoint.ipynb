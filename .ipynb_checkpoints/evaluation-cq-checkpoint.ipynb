{
 "cells": [
  {
   "cell_type": "markdown",
   "id": "c5c73d46",
   "metadata": {},
   "source": [
    "# Evaluation of the Competency Questions\n",
    "\n",
    "This notebook guides through the queries used to evaluate how the Robot Perception Ontology is able to answer the competency questions that guided the development process.\n",
    "\n",
    "A complete list of the competency questions are as follows:\n",
    "- CQ1: What sensors are available to use for robotic perception?\n",
    "- CQ2: What characteristics do the sensors of CQ1 possess?\n",
    "- CQ3: What units of measurements is the data provided by CQ1 expressed in?\n",
    "- CQ4: What properties of objects does the sensor from CQ1 enable to observe?\n",
    "- CQ5: What algorithms are suitable for processing the data for the sensors of CQ1?\n",
    "- CQ6: What characteristics do the algorithms possess?\n",
    "- CQ7: What units of measurements is the data by provided by CQ5 expressed in?\n",
    "- CQ8: What properties of objects can be observed from the outputs of the algorithms provided by CQ5?"
   ]
  },
  {
   "cell_type": "code",
   "execution_count": 1,
   "id": "480be3f2",
   "metadata": {},
   "outputs": [
    {
     "data": {
      "text/plain": [
       "<Graph identifier=N0fbc3b73ed9549609d9d3a3661d4a2de (<class 'rdflib.graph.Graph'>)>"
      ]
     },
     "execution_count": 1,
     "metadata": {},
     "output_type": "execute_result"
    }
   ],
   "source": [
    "from rdflib import Graph, Namespace\n",
    "from rdflib.namespace import SSN\n",
    "\n",
    "g = Graph()\n",
    "g.parse(\"owl/rpo.rdf\")"
   ]
  },
  {
   "cell_type": "markdown",
   "id": "43170c9e",
   "metadata": {},
   "source": [
    "## CQ1: What sensors are available to use for robotic perception?\n",
    "\n",
    "Availability in this sense means that the sensor needs be equipped by a robot, and the sensor needs to be powered. In order to test the query, the queried object needs to be of type *rpo:Sensor*, with *rpo:isPoweredOn* property being *true*, and *rpo:isHostedBy* be an *rpo:agent* that is of type *rpo:Self*."
   ]
  },
  {
   "cell_type": "code",
   "execution_count": 2,
   "id": "473039b4",
   "metadata": {},
   "outputs": [
    {
     "name": "stdout",
     "output_type": "stream",
     "text": [
      "http://www.semanticweb.org/dorte/perception-ontology#LocoBot1DepthCamera\n"
     ]
    }
   ],
   "source": [
    "cq1_query = \"\"\"\n",
    "SELECT ?sensor ?agent WHERE{\n",
    "    ?sensor a :Sensor .\n",
    "    ?sensor :isPoweredOn true .\n",
    "    ?sensor :isHostedBy ?agent .\n",
    "    ?agent a :Self\n",
    "}\"\"\"\n",
    "\n",
    "cq1_res = g.query(cq1_query)\n",
    "for row in cq1_res:\n",
    "    print(f\"{row.sensor}\")"
   ]
  },
  {
   "cell_type": "markdown",
   "id": "1866ff8e",
   "metadata": {},
   "source": [
    "## CQ2: What characteristics do the sensors of CQ1 possess?\n",
    "\n",
    "Characteristics refers to the values that describe the different sensor properties relevant to the sensor at hand. The sensor properties belong to the class *rpo:SensorProperty* ."
   ]
  },
  {
   "cell_type": "code",
   "execution_count": 3,
   "id": "7692945b",
   "metadata": {},
   "outputs": [
    {
     "name": "stdout",
     "output_type": "stream",
     "text": [
      "http://www.semanticweb.org/dorte/perception-ontology#IntelD435DFoV, 95.0 http://www.semanticweb.org/dorte/perception-ontology#degree\n",
      "http://www.semanticweb.org/dorte/perception-ontology#IntelD435HFoV, 87.0 http://www.semanticweb.org/dorte/perception-ontology#degree\n",
      "http://www.semanticweb.org/dorte/perception-ontology#IntelD435VFoV, 58.0 http://www.semanticweb.org/dorte/perception-ontology#degree\n"
     ]
    }
   ],
   "source": [
    "cq2_query = \"\"\"\n",
    "SELECT ?sc ?value ?unit WHERE{\n",
    "    :LocoBot1DepthCamera :hasSensorCharacteristics ?sc .\n",
    "    ?sc :hasUnitofMeasure ?unit .\n",
    "    ?sc :hasNumericalValue ?value\n",
    "}\"\"\"\n",
    "\n",
    "cq2_res = g.query(cq2_query)\n",
    "for row in cq2_res:\n",
    "    print(f\"{row.sc}, {row.value} {row.unit}\")"
   ]
  },
  {
   "cell_type": "markdown",
   "id": "e789e43c",
   "metadata": {},
   "source": [
    "## CQ3: What units of measurement is the data provided by CQ1 expressed in?\n"
   ]
  },
  {
   "cell_type": "code",
   "execution_count": 4,
   "id": "61f7cc9d",
   "metadata": {},
   "outputs": [
    {
     "name": "stdout",
     "output_type": "stream",
     "text": [
      "http://www.semanticweb.org/dorte/perception-ontology#RGB\n",
      "http://www.semanticweb.org/dorte/perception-ontology#meter\n",
      "http://www.semanticweb.org/dorte/perception-ontology#pixel\n"
     ]
    }
   ],
   "source": [
    "cq3_query = \"\"\"\n",
    "SELECT ?unit WHERE{\n",
    "    :LocoBot1DepthCamera :hasOutputUnitOfMeasure ?unit.\n",
    "}\"\"\"\n",
    "\n",
    "cq3_res = g.query(cq3_query)\n",
    "for row in cq3_res:\n",
    "    print(f\"{row.unit}\")"
   ]
  },
  {
   "cell_type": "markdown",
   "id": "69bb9002",
   "metadata": {},
   "source": [
    "## CQ4: What properties of objects does the sensor from CQ1 enable to observe?"
   ]
  },
  {
   "cell_type": "code",
   "execution_count": 5,
   "id": "3b8e9b50",
   "metadata": {},
   "outputs": [
    {
     "name": "stdout",
     "output_type": "stream",
     "text": [
      "http://www.semanticweb.org/dorte/perception-ontology#Color\n",
      "http://www.semanticweb.org/dorte/perception-ontology#Distance\n"
     ]
    }
   ],
   "source": [
    "cq4_query = \"\"\"\n",
    "SELECT ?prop WHERE{\n",
    "    :LocoBot1DepthCamera :enablesObservationOf ?prop.\n",
    "}\"\"\"\n",
    "\n",
    "cq4_res = g.query(cq4_query)\n",
    "for row in cq4_res:\n",
    "    print(f\"{row.prop}\")"
   ]
  },
  {
   "cell_type": "markdown",
   "id": "881b9432",
   "metadata": {},
   "source": [
    "## CQ5: What algorithms are suitable for processing the data for the sensors of CQ1?"
   ]
  },
  {
   "cell_type": "code",
   "execution_count": 6,
   "id": "fd466fe6",
   "metadata": {},
   "outputs": [],
   "source": [
    "cq5_query = \"\"\"\n",
    "SELECT ?alg WHERE{\n",
    "    :LocoBot1DepthCamera :hasOutput ?output.\n",
    "}\"\"\"\n",
    "\n",
    "cq5_res = g.query(cq5_query)\n",
    "for row in cq5_res:\n",
    "    print(f\"{row.prop}\")"
   ]
  }
 ],
 "metadata": {
  "kernelspec": {
   "display_name": "Python 3 (ipykernel)",
   "language": "python",
   "name": "python3"
  },
  "language_info": {
   "codemirror_mode": {
    "name": "ipython",
    "version": 3
   },
   "file_extension": ".py",
   "mimetype": "text/x-python",
   "name": "python",
   "nbconvert_exporter": "python",
   "pygments_lexer": "ipython3",
   "version": "3.8.10"
  }
 },
 "nbformat": 4,
 "nbformat_minor": 5
}
