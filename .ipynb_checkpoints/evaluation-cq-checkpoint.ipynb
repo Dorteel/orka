{
 "cells": [
  {
   "cell_type": "markdown",
   "id": "5473ffe2",
   "metadata": {},
   "source": [
    "# Evaluation of the Competency Questions\n",
    "\n",
    "This notebook guides through the queries used to evaluate how the Robot Perception Ontology is able to answer the competency questions that guided the development process.\n",
    "\n",
    "A complete list of the competency questions are as follows:\n",
    "- CQ1: What sensors are available to use for robotic perception?\n",
    "- CQ2: What characteristics do the sensors of CQ1 possess?\n",
    "- CQ3: What units of measurements is the data provided by CQ1 expressed in?\n",
    "- CQ4: What properties of objects does the sensor from CQ1 enable to observe?\n",
    "- CQ5: What algorithms are suitable for processing the data for the sensors of CQ1?\n",
    "- CQ6: What characteristics do the algorithms possess?\n",
    "- CQ7: What units of measurements is the data by provided by CQ5 expressed in?\n",
    "- CQ8: What properties of objects can be observed from the outputs of the algorithms provided by CQ5?"
   ]
  },
  {
   "cell_type": "code",
   "execution_count": 113,
   "id": "b382663e",
   "metadata": {},
   "outputs": [
    {
     "name": "stdout",
     "output_type": "stream",
     "text": [
      "http://www.semanticweb.org/dorte/perception-ontology#LocoBot1DepthCamera\n"
     ]
    }
   ],
   "source": [
    "from rdflib import Graph, Namespace\n",
    "from rdflib.namespace import SSN\n",
    "\n",
    "g = Graph()\n",
    "g.parse(\"owl/rpo.rdf\")\n",
    "\n",
    "cq1_query = \"\"\"\n",
    "SELECT ?sensor ?agent WHERE{\n",
    "    ?sensor a :Sensor .\n",
    "    ?sensor :isPoweredOn true .\n",
    "    ?sensor :isHostedBy ?agent .\n",
    "    ?agent a :Self\n",
    "}\"\"\"\n",
    "cq1_res = g.query(cq1_query)\n",
    "for row in cq1_res:\n",
    "    print(f\"{row.sensor}\")\n",
    "    \n"
   ]
  },
  {
   "cell_type": "markdown",
   "id": "93de50c4",
   "metadata": {},
   "source": [
    "## CQ1: What sensors are available to use for robotic perception?\n",
    "\n",
    "Availability in this sense means that the sensor needs be equipped by a robot, and the sensor needs to be powered. In order to test the query, the queried object needs to be of type \"rpo:Sensor\", with rpo:isPoweredOn property being true, and rpo:isHostedBy be an agent that is referred to as \"Self\"."
   ]
  },
  {
   "cell_type": "code",
   "execution_count": 114,
   "id": "7dc963a7",
   "metadata": {},
   "outputs": [
    {
     "name": "stdout",
     "output_type": "stream",
     "text": [
      "http://www.semanticweb.org/dorte/perception-ontology#LocoBot1DepthCamera\n"
     ]
    }
   ],
   "source": [
    "cq1_query = \"\"\"\n",
    "SELECT ?sensor ?agent WHERE{\n",
    "    ?sensor a :Sensor .\n",
    "    ?sensor :isPoweredOn true .\n",
    "    ?sensor :isHostedBy ?agent .\n",
    "    ?agent a :Self\n",
    "}\"\"\"\n",
    "\n",
    "cq1_res = g.query(cq1_query)\n",
    "for row in cq1_res:\n",
    "    print(f\"{row.sensor}\")"
   ]
  },
  {
   "cell_type": "markdown",
   "id": "8e397621",
   "metadata": {},
   "source": [
    "## CQ2: What characteristics do the sensors of CQ1 possess?"
   ]
  },
  {
   "cell_type": "code",
   "execution_count": null,
   "id": "0ff3f87a",
   "metadata": {},
   "outputs": [],
   "source": []
  }
 ],
 "metadata": {
  "kernelspec": {
   "display_name": "Python 3 (ipykernel)",
   "language": "python",
   "name": "python3"
  },
  "language_info": {
   "codemirror_mode": {
    "name": "ipython",
    "version": 3
   },
   "file_extension": ".py",
   "mimetype": "text/x-python",
   "name": "python",
   "nbconvert_exporter": "python",
   "pygments_lexer": "ipython3",
   "version": "3.8.10"
  }
 },
 "nbformat": 4,
 "nbformat_minor": 5
}
