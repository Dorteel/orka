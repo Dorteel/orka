{
 "cells": [
  {
   "cell_type": "markdown",
   "id": "aac57387",
   "metadata": {},
   "source": [
    "# Evaluation of the Competency Questions\n",
    "\n",
    "This notebook guides through the queries used to evaluate how the Robot Perception Ontology is able to answer the competency questions that guided the development process.\n",
    "\n",
    "A complete list of the competency questions are as follows:\n",
    "- CQ1: What sensors are available to use for robotic perception?\n",
    "- CQ2: What characteristics do the sensors of CQ1 possess?\n",
    "- CQ3: What units of measurements is the data provided by CQ1 expressed in?\n",
    "- CQ4: What properties of objects does the sensor from CQ1 enable to observe?\n",
    "- CQ5: What algorithms are suitable for processing the data for the sensors of CQ1?\n",
    "- CQ6: What characteristics do the algorithms possess?\n",
    "- CQ7: What units of measurements is the data by provided by CQ5 expressed in?\n",
    "- CQ8: What properties of objects can be observed from the outputs of the algorithms provided by CQ5?"
   ]
  },
  {
   "cell_type": "code",
   "execution_count": 14,
   "id": "a238f234",
   "metadata": {},
   "outputs": [
    {
     "name": "stdout",
     "output_type": "stream",
     "text": [
      "http://www.semanticweb.org/dorte/perception-ontology#LocoBot1DepthCamera\n",
      "http://www.semanticweb.org/dorte/perception-ontology#LocoBot1DepthCamera\n"
     ]
    }
   ],
   "source": [
    "from rdflib import Graph, Namespace\n",
    "from rdflib.namespace import SSN\n",
    "\n",
    "g = Graph()\n",
    "g.parse(\"owl/rpo.rdf\")\n",
    "\n",
    "cq1_query = \"\"\"\n",
    "SELECT ?sensor ?agent WHERE{\n",
    "    ?sensor rdf:type/rdfs:subClassOf* :Sensor .\n",
    "    ?sensor :isPoweredOn true .\n",
    "    ?sensor :isHostedBy ?agent .\n",
    "    ?agent a :Self\n",
    "}\"\"\"\n",
    "\n",
    "cq1_res = g.query(cq1_query)\n",
    "for row in cq1_res:\n",
    "    print(f\"{row.sensor}\")"
   ]
  },
  {
   "cell_type": "markdown",
   "id": "21f66a4a",
   "metadata": {},
   "source": [
    "## CQ1: What sensors are available to use for robotic perception?\n",
    "\n",
    "Availability in this sense means that the sensor needs be equipped by a robot, and the sensor needs to be powered. In order to test the query, the queried object needs to be of type *rpo:Sensor*, with *rpo:isPoweredOn* property being *true*, and *rpo:isHostedBy* be an *rpo:agent* that is of type *rpo:Self*."
   ]
  },
  {
   "cell_type": "code",
   "execution_count": 2,
   "id": "0517e1a5",
   "metadata": {},
   "outputs": [
    {
     "name": "stdout",
     "output_type": "stream",
     "text": [
      "http://www.semanticweb.org/dorte/perception-ontology#LocoBot1DepthCamera\n"
     ]
    }
   ],
   "source": [
    "cq1_query = \"\"\"\n",
    "SELECT ?sensor ?agent WHERE{\n",
    "    ?sensor a :Sensor .\n",
    "    ?sensor :isPoweredOn true .\n",
    "    ?sensor :isHostedBy ?agent .\n",
    "    ?agent a :Self\n",
    "}\"\"\"\n",
    "\n",
    "cq1_res = g.query(cq1_query)\n",
    "for row in cq1_res:\n",
    "    print(f\"{row.sensor}\")"
   ]
  },
  {
   "cell_type": "markdown",
   "id": "7038888d",
   "metadata": {},
   "source": [
    "## CQ2: What characteristics do the sensors of CQ1 possess?\n",
    "\n",
    "Characteristics refers to the values that describe the different sensor properties relevant to the sensor at hand. The sensor properties belong to the class *rpo:SensorProperty* ."
   ]
  },
  {
   "cell_type": "code",
   "execution_count": 3,
   "id": "c22ff58a",
   "metadata": {},
   "outputs": [
    {
     "name": "stdout",
     "output_type": "stream",
     "text": [
      "http://www.semanticweb.org/dorte/perception-ontology#IntelD435DFoV, 95.0 http://www.semanticweb.org/dorte/perception-ontology#degree\n",
      "http://www.semanticweb.org/dorte/perception-ontology#IntelD435HFoV, 87.0 http://www.semanticweb.org/dorte/perception-ontology#degree\n",
      "http://www.semanticweb.org/dorte/perception-ontology#IntelD435VFoV, 58.0 http://www.semanticweb.org/dorte/perception-ontology#degree\n"
     ]
    }
   ],
   "source": [
    "cq2_query = \"\"\"\n",
    "SELECT ?sc ?value ?unit WHERE{\n",
    "    :LocoBot1DepthCamera :hasSensorCharacteristics ?sc .\n",
    "    ?sc :hasUnitofMeasure ?unit .\n",
    "    ?sc :hasNumericalValue ?value\n",
    "}\"\"\"\n",
    "\n",
    "cq2_res = g.query(cq2_query)\n",
    "for row in cq2_res:\n",
    "    print(f\"{row.sc}, {row.value} {row.unit}\")"
   ]
  },
  {
   "cell_type": "markdown",
   "id": "7c430615",
   "metadata": {},
   "source": [
    "## CQ3: What units of measurement is the data provided by CQ1 expressed in?\n"
   ]
  },
  {
   "cell_type": "code",
   "execution_count": 4,
   "id": "88678b92",
   "metadata": {},
   "outputs": [
    {
     "name": "stdout",
     "output_type": "stream",
     "text": [
      "http://www.semanticweb.org/dorte/perception-ontology#RGB\n",
      "http://www.semanticweb.org/dorte/perception-ontology#meter\n",
      "http://www.semanticweb.org/dorte/perception-ontology#pixel\n"
     ]
    }
   ],
   "source": [
    "cq3_query = \"\"\"\n",
    "SELECT ?unit WHERE{\n",
    "    :LocoBot1DepthCamera :hasOutputUnitOfMeasure ?unit.\n",
    "}\"\"\"\n",
    "\n",
    "cq3_res = g.query(cq3_query)\n",
    "for row in cq3_res:\n",
    "    print(f\"{row.unit}\")"
   ]
  },
  {
   "cell_type": "markdown",
   "id": "60f33f40",
   "metadata": {},
   "source": [
    "## CQ4: What properties of objects does the sensor from CQ1 enable to observe?"
   ]
  },
  {
   "cell_type": "code",
   "execution_count": 5,
   "id": "d87ab7a2",
   "metadata": {},
   "outputs": [
    {
     "name": "stdout",
     "output_type": "stream",
     "text": [
      "http://www.semanticweb.org/dorte/perception-ontology#Color\n",
      "http://www.semanticweb.org/dorte/perception-ontology#Distance\n"
     ]
    }
   ],
   "source": [
    "cq4_query = \"\"\"\n",
    "SELECT ?prop WHERE{\n",
    "    :LocoBot1DepthCamera :enablesObservationOf ?prop.\n",
    "}\"\"\"\n",
    "\n",
    "cq4_res = g.query(cq4_query)\n",
    "for row in cq4_res:\n",
    "    print(f\"{row.prop}\")"
   ]
  },
  {
   "cell_type": "markdown",
   "id": "80e20bf9",
   "metadata": {},
   "source": [
    "## CQ5: What algorithms are suitable for processing the data for the sensors of CQ1?\n",
    "\n",
    "The algorithms that's input corresponds to the same qualities as the output of the sensor is considered suitable. In the test-case, the output of the depth sensor are RGB and Depth images, where the RGB image is a suitable input for the Yolo ObjectDetector."
   ]
  },
  {
   "cell_type": "code",
   "execution_count": 10,
   "id": "269dcec7",
   "metadata": {},
   "outputs": [],
   "source": [
    "cq5_query = \"\"\"\n",
    "SELECT ?alg ?output ?input WHERE{\n",
    "    ?alg a :Algorithm .\n",
    "    ?alg :hasInput ?input .\n",
    "    :LocoBot1DepthCamera :hasOutput ?output .\n",
    "    ?output :hasOutput ?output\n",
    "}\"\"\"\n",
    "\n",
    "cq5_res = g.query(cq5_query)\n",
    "for row in cq5_res:\n",
    "    print(f\"{row.alg}\")"
   ]
  },
  {
   "cell_type": "markdown",
   "id": "84609624",
   "metadata": {},
   "source": [
    "## CQ6: What characteristics do the algorithms possess? \n",
    "\n",
    "Similarly to CQ2, the characteristics of the algorithms are expressed using the properties corresponding to the algorithms, which belong to the subclasses of *rpo:AlgorithmProperty*."
   ]
  },
  {
   "cell_type": "code",
   "execution_count": null,
   "id": "4608cdd2",
   "metadata": {},
   "outputs": [],
   "source": []
  },
  {
   "cell_type": "markdown",
   "id": "d66349f7",
   "metadata": {},
   "source": [
    "## CQ7: What units of measurements is the data by provided by CQ5 expressed in?"
   ]
  },
  {
   "cell_type": "code",
   "execution_count": null,
   "id": "f68ccead",
   "metadata": {},
   "outputs": [],
   "source": []
  },
  {
   "cell_type": "markdown",
   "id": "c0eb6770",
   "metadata": {},
   "source": [
    "## CQ8: What properties of objects can be observed from the outputs of the algorithms provided by CQ5?"
   ]
  },
  {
   "cell_type": "code",
   "execution_count": null,
   "id": "4693cc4e",
   "metadata": {},
   "outputs": [],
   "source": []
  }
 ],
 "metadata": {
  "kernelspec": {
   "display_name": "Python 3 (ipykernel)",
   "language": "python",
   "name": "python3"
  },
  "language_info": {
   "codemirror_mode": {
    "name": "ipython",
    "version": 3
   },
   "file_extension": ".py",
   "mimetype": "text/x-python",
   "name": "python",
   "nbconvert_exporter": "python",
   "pygments_lexer": "ipython3",
   "version": "3.8.10"
  }
 },
 "nbformat": 4,
 "nbformat_minor": 5
}
