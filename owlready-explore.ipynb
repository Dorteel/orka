{
 "cells": [
  {
   "cell_type": "code",
   "execution_count": 11,
   "metadata": {},
   "outputs": [
    {
     "name": "stdout",
     "output_type": "stream",
     "text": [
      "Ontology class structure:\n",
      "No root classes found.\n",
      "\n",
      "All classes in the ontology:\n",
      "KnowledgeRepository\n",
      "Procedure\n",
      "Observation\n",
      "Robot\n",
      "Sensor\n",
      "Characteristic\n",
      "Measurement\n"
     ]
    }
   ],
   "source": [
    "import owlready2\n",
    "\n",
    "# Load the ontology\n",
    "onto = owlready2.get_ontology(\"file://C:/Users/dorte/Documents/Repositories/ontologies/orka/owl/orka-core.owl\").load()\n",
    "\n",
    "# Function to recursively print class hierarchy\n",
    "def print_class_hierarchy(cls, level=0):\n",
    "    print(\"  \" * level + cls.name)\n",
    "    for subclass in cls.subclasses():\n",
    "        print_class_hierarchy(subclass, level + 1)\n",
    "\n",
    "# Print the class hierarchy\n",
    "print(\"Ontology class structure:\")\n",
    "root_classes = [cls for cls in onto.classes() if not cls.ancestors()]\n",
    "if not root_classes:\n",
    "    print(\"No root classes found.\")\n",
    "else:\n",
    "    for root_class in root_classes:\n",
    "        print_class_hierarchy(root_class)\n",
    "\n",
    "# Print all classes for diagnostics\n",
    "print(\"\\nAll classes in the ontology:\")\n",
    "for cls in onto.classes():\n",
    "    print(cls.name)\n"
   ]
  },
  {
   "cell_type": "code",
   "execution_count": 10,
   "metadata": {},
   "outputs": [
    {
     "name": "stdout",
     "output_type": "stream",
     "text": [
      "Ontology class structure:\n"
     ]
    }
   ],
   "source": []
  },
  {
   "cell_type": "code",
   "execution_count": null,
   "metadata": {},
   "outputs": [],
   "source": []
  }
 ],
 "metadata": {
  "kernelspec": {
   "display_name": ".venv",
   "language": "python",
   "name": "python3"
  },
  "language_info": {
   "codemirror_mode": {
    "name": "ipython",
    "version": 3
   },
   "file_extension": ".py",
   "mimetype": "text/x-python",
   "name": "python",
   "nbconvert_exporter": "python",
   "pygments_lexer": "ipython3",
   "version": "3.10.11"
  }
 },
 "nbformat": 4,
 "nbformat_minor": 2
}
